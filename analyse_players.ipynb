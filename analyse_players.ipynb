{
 "cells": [
  {
   "cell_type": "code",
   "execution_count": 71,
   "id": "733f69cf",
   "metadata": {},
   "outputs": [],
   "source": [
    "import pandas as pd\n",
    "import matplotlib.pyplot as plt\n",
    "import seaborn as sns\n",
    "# Load the data\n",
    "df = pd.read_csv(\"full_data.csv\")\n",
    "\n",
    "\n"
   ]
  },
  {
   "cell_type": "code",
   "execution_count": 72,
   "id": "72171aaa",
   "metadata": {},
   "outputs": [
    {
     "name": "stderr",
     "output_type": "stream",
     "text": [
      "C:\\Users\\USER\\AppData\\Local\\Temp\\ipykernel_6048\\2341414525.py:11: FutureWarning: A value is trying to be set on a copy of a DataFrame or Series through chained assignment using an inplace method.\n",
      "The behavior will change in pandas 3.0. This inplace method will never work because the intermediate object on which we are setting values always behaves as a copy.\n",
      "\n",
      "For example, when doing 'df[col].method(value, inplace=True)', try using 'df.method({col: value}, inplace=True)' or df[col] = df[col].method(value) instead, to perform the operation inplace on the original object.\n",
      "\n",
      "\n",
      "  df['age'].fillna(df['age'].mean(), inplace=True)\n",
      "C:\\Users\\USER\\AppData\\Local\\Temp\\ipykernel_6048\\2341414525.py:12: FutureWarning: A value is trying to be set on a copy of a DataFrame or Series through chained assignment using an inplace method.\n",
      "The behavior will change in pandas 3.0. This inplace method will never work because the intermediate object on which we are setting values always behaves as a copy.\n",
      "\n",
      "For example, when doing 'df[col].method(value, inplace=True)', try using 'df.method({col: value}, inplace=True)' or df[col] = df[col].method(value) instead, to perform the operation inplace on the original object.\n",
      "\n",
      "\n",
      "  df['years_in_team'].fillna(df['years_in_team'].mean(), inplace=True)\n"
     ]
    }
   ],
   "source": [
    "\n",
    "# generate age and days_in_his_team\n",
    "df['birth_date'] = pd.to_datetime(df['birth_date'], errors='coerce')\n",
    "df['team_join_date'] = pd.to_datetime(df['team_join_date'], errors='coerce')\n",
    "\n",
    "today = pd.Timestamp.today()\n",
    "\n",
    "df['age'] = ((today - df['birth_date']).dt.days / 365.25).round(1)\n",
    "df['years_in_team'] = ((today - df['team_join_date']).dt.days / 365.25).round(1)\n",
    "\n",
    "\n",
    "df['age'].fillna(df['age'].mean(), inplace=True)\n",
    "df['years_in_team'].fillna(df['years_in_team'].mean(), inplace=True)\n",
    "\n",
    "# List the columns you want to drop\n",
    "columns_to_drop = ['can_transact', 'news', 'news_added', 'removed' , 'code' , 'id' , 'first_name' , 'second_name' , \n",
    "                   'web_name' , 'photo','team','team_code','team_id' ,'element_type', 'team_join_date' ,'birth_date','now_cost_rank',\n",
    "                   'influence_rank','creativity_rank','threat_rank','ict_index_rank','form_rank','points_per_game_rank',\n",
    "                   'selected_rank']  \n",
    "\n",
    "# Drop them\n",
    "df = df.drop(columns=columns_to_drop)\n",
    "\n"
   ]
  },
  {
   "cell_type": "code",
   "execution_count": 73,
   "id": "bb67bd6a",
   "metadata": {},
   "outputs": [],
   "source": [
    "#fill null\n",
    "\n",
    "df['chance_of_playing_next_round'] = df['chance_of_playing_next_round'].fillna(0)\n",
    "df['chance_of_playing_this_round'] = df['chance_of_playing_this_round'].fillna(0)\n",
    "df['ep_next'] = df['ep_next'].fillna(0)\n",
    "\n",
    "df['corners_and_indirect_freekicks_order'] = df['corners_and_indirect_freekicks_order'].fillna(10)\n",
    "df['direct_freekicks_order'] = df['direct_freekicks_order'].fillna(10)\n",
    "df['penalties_order'] = df['penalties_order'].fillna(10)"
   ]
  },
  {
   "cell_type": "code",
   "execution_count": 74,
   "id": "f6725152",
   "metadata": {},
   "outputs": [],
   "source": [
    "# Select boolean columns except 'position_name'\n",
    "bool_cols = [col for col in df.columns if col != 'position_name' and pd.api.types.is_bool_dtype(df[col])]\n",
    "\n",
    "# Convert bool columns to int (False=0, True=1)\n",
    "df[bool_cols] = df[bool_cols].astype(int)\n",
    "\n",
    "# For the rest of non-numeric columns (excluding position_name and bool_cols), get dummies\n",
    "cols_to_dummy = [col for col in df.columns if col != 'position_name' and \n",
    "                 (not pd.api.types.is_numeric_dtype(df[col]) and col not in bool_cols)]\n",
    "\n",
    "df_dummies = pd.get_dummies(df, columns=cols_to_dummy, drop_first=False)\n"
   ]
  },
  {
   "cell_type": "code",
   "execution_count": 75,
   "id": "45e01048",
   "metadata": {},
   "outputs": [
    {
     "name": "stdout",
     "output_type": "stream",
     "text": [
      "Remaining columns: ['can_select', 'chance_of_playing_next_round', 'chance_of_playing_this_round', 'cost_change_event', 'cost_change_event_fall', 'cost_change_start', 'cost_change_start_fall', 'dreamteam_count', 'ep_next', 'ep_this', 'event_points', 'form', 'in_dreamteam', 'now_cost', 'points_per_game', 'selected_by_percent', 'total_points', 'transfers_in', 'transfers_in_event', 'transfers_out', 'transfers_out_event', 'value_form', 'value_season', 'minutes', 'goals_scored', 'assists', 'clean_sheets', 'goals_conceded', 'own_goals', 'penalties_saved', 'penalties_missed', 'yellow_cards', 'red_cards', 'saves', 'bonus', 'bps', 'influence', 'creativity', 'threat', 'ict_index', 'starts', 'expected_goals', 'expected_assists', 'expected_goal_involvements', 'expected_goals_conceded', 'mng_win', 'mng_draw', 'mng_loss', 'mng_underdog_win', 'mng_underdog_draw', 'mng_clean_sheets', 'mng_goals_scored', 'influence_rank_type', 'creativity_rank_type', 'threat_rank_type', 'ict_index_rank_type', 'corners_and_indirect_freekicks_order', 'direct_freekicks_order', 'penalties_order', 'expected_goals_per_90', 'saves_per_90', 'expected_assists_per_90', 'expected_goal_involvements_per_90', 'expected_goals_conceded_per_90', 'goals_conceded_per_90', 'now_cost_rank_type', 'form_rank_type', 'points_per_game_rank_type', 'selected_rank_type', 'starts_per_90', 'clean_sheets_per_90', 'position_name', 'age', 'years_in_team', 'status_a', 'status_d', 'status_i', 'status_s', 'status_u', 'team_name_Arsenal', 'team_name_Aston Villa', 'team_name_Bournemouth', 'team_name_Brentford', 'team_name_Brighton', 'team_name_Chelsea', 'team_name_Crystal Palace', 'team_name_Everton', 'team_name_Fulham', 'team_name_Ipswich', 'team_name_Leicester', 'team_name_Liverpool', 'team_name_Man City', 'team_name_Man Utd', 'team_name_Newcastle', \"team_name_Nott'm Forest\", 'team_name_Southampton', 'team_name_Spurs', 'team_name_West Ham', 'team_name_Wolves']\n",
      "Total number of columns: 99\n",
      "✅ Cleaned data saved as 'ml_ready_players.csv'\n"
     ]
    }
   ],
   "source": [
    "\n",
    "# Show result\n",
    "print(f\"Remaining columns: {df_dummies.columns.tolist()}\")\n",
    "print(f\"Total number of columns: {df_dummies.shape[1]}\")\n",
    "\n",
    "\n",
    "# Save to new CSV\n",
    "df_dummies.to_csv(\"ml_ready_players.csv\", index=False)\n",
    "print(\"✅ Cleaned data saved as 'ml_ready_players.csv'\")\n",
    "\n"
   ]
  },
  {
   "cell_type": "code",
   "execution_count": 76,
   "id": "3b932c32",
   "metadata": {},
   "outputs": [
    {
     "name": "stdout",
     "output_type": "stream",
     "text": [
      "int64      41\n",
      "float64    30\n",
      "object      3\n",
      "int32       2\n",
      "Name: count, dtype: int64\n",
      "[]\n"
     ]
    }
   ],
   "source": [
    "\n",
    "col_types = df.dtypes.value_counts()\n",
    "print(col_types)\n",
    "bool_columns = df.select_dtypes(include=['bool']).columns.tolist()\n",
    "print(bool_columns)"
   ]
  }
 ],
 "metadata": {
  "kernelspec": {
   "display_name": "base",
   "language": "python",
   "name": "python3"
  },
  "language_info": {
   "codemirror_mode": {
    "name": "ipython",
    "version": 3
   },
   "file_extension": ".py",
   "mimetype": "text/x-python",
   "name": "python",
   "nbconvert_exporter": "python",
   "pygments_lexer": "ipython3",
   "version": "3.12.7"
  }
 },
 "nbformat": 4,
 "nbformat_minor": 5
}
