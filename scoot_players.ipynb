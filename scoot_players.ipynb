{
 "cells": [
  {
   "cell_type": "code",
   "execution_count": 1,
   "id": "a716c023",
   "metadata": {},
   "outputs": [],
   "source": [
    "import pandas as pd\n",
    "\n",
    "# Load your clustered data CSV\n",
    "df = pd.read_csv('clustered_data.csv')  # make sure this CSV has 'web_name', 'position_name', and 'cluster' columns\n"
   ]
  },
  {
   "cell_type": "code",
   "execution_count": 2,
   "id": "c81e8760",
   "metadata": {},
   "outputs": [],
   "source": [
    "def find_similar_players(player_name):\n",
    "    # Find the player row\n",
    "    player = df[df['web_name'] == player_name]\n",
    "    if player.empty:\n",
    "        print(f\"No player found with name '{player_name}'\")\n",
    "        return\n",
    "    \n",
    "    pos = player['position_name'].values[0]\n",
    "    cluster = player['cluster'].values[0]\n",
    "    \n",
    "    # Find players with same position and cluster\n",
    "    similar_players = df[(df['position_name'] == pos) & (df['cluster'] == cluster)]\n",
    "    \n",
    "    print(f\"Players in the same position '{pos}' and cluster {cluster}:\")\n",
    "    print(similar_players['web_name'].tolist())\n",
    "\n"
   ]
  },
  {
   "cell_type": "code",
   "execution_count": 6,
   "id": "4056e6c9",
   "metadata": {},
   "outputs": [
    {
     "name": "stdout",
     "output_type": "stream",
     "text": [
      "Players in the same position 'Defender' and cluster 9:\n",
      "['Gabriel', 'Saliba', 'Kerkez', 'Cucurella', 'Muñoz', 'Virgil', 'Aina', 'Aït-Nouri']\n"
     ]
    }
   ],
   "source": [
    "find_similar_players(\"Virgil\")\n"
   ]
  }
 ],
 "metadata": {
  "kernelspec": {
   "display_name": "base",
   "language": "python",
   "name": "python3"
  },
  "language_info": {
   "codemirror_mode": {
    "name": "ipython",
    "version": 3
   },
   "file_extension": ".py",
   "mimetype": "text/x-python",
   "name": "python",
   "nbconvert_exporter": "python",
   "pygments_lexer": "ipython3",
   "version": "3.12.7"
  }
 },
 "nbformat": 4,
 "nbformat_minor": 5
}
